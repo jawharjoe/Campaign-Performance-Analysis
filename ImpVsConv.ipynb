{
 "cells": [
  {
   "cell_type": "code",
   "execution_count": 1,
   "id": "e54cdaf7",
   "metadata": {},
   "outputs": [],
   "source": [
    "import pandas as pd"
   ]
  },
  {
   "cell_type": "markdown",
   "id": "ecec764e",
   "metadata": {},
   "source": [
    "# Impression Data"
   ]
  },
  {
   "cell_type": "code",
   "execution_count": 2,
   "id": "86f1788b",
   "metadata": {},
   "outputs": [],
   "source": [
    "df_imp = pd.read_csv(\"Data/impressions.csv\") "
   ]
  },
  {
   "cell_type": "code",
   "execution_count": 116,
   "id": "a1ace5cc",
   "metadata": {},
   "outputs": [
    {
     "data": {
      "text/html": [
       "<div>\n",
       "<style scoped>\n",
       "    .dataframe tbody tr th:only-of-type {\n",
       "        vertical-align: middle;\n",
       "    }\n",
       "\n",
       "    .dataframe tbody tr th {\n",
       "        vertical-align: top;\n",
       "    }\n",
       "\n",
       "    .dataframe thead th {\n",
       "        text-align: right;\n",
       "    }\n",
       "</style>\n",
       "<table border=\"1\" class=\"dataframe\">\n",
       "  <thead>\n",
       "    <tr style=\"text-align: right;\">\n",
       "      <th></th>\n",
       "      <th>auction_id</th>\n",
       "      <th>message_id</th>\n",
       "      <th>user_id</th>\n",
       "      <th>spend</th>\n",
       "      <th>imp_date</th>\n",
       "    </tr>\n",
       "  </thead>\n",
       "  <tbody>\n",
       "    <tr>\n",
       "      <th>0</th>\n",
       "      <td>1011527229225982812</td>\n",
       "      <td>335881</td>\n",
       "      <td>81763</td>\n",
       "      <td>0.00048</td>\n",
       "      <td>2018-07-09 07:14:28</td>\n",
       "    </tr>\n",
       "    <tr>\n",
       "      <th>1</th>\n",
       "      <td>1019125075080749328</td>\n",
       "      <td>530308</td>\n",
       "      <td>75065</td>\n",
       "      <td>0.00021</td>\n",
       "      <td>2018-07-09 07:09:24</td>\n",
       "    </tr>\n",
       "    <tr>\n",
       "      <th>2</th>\n",
       "      <td>1026658047695643709</td>\n",
       "      <td>336028</td>\n",
       "      <td>36559</td>\n",
       "      <td>0.00052</td>\n",
       "      <td>2018-07-09 07:10:52</td>\n",
       "    </tr>\n",
       "    <tr>\n",
       "      <th>3</th>\n",
       "      <td>1031386905892227659</td>\n",
       "      <td>651411</td>\n",
       "      <td>32262</td>\n",
       "      <td>0.00029</td>\n",
       "      <td>2018-07-09 07:30:18</td>\n",
       "    </tr>\n",
       "    <tr>\n",
       "      <th>4</th>\n",
       "      <td>1037113241780132055</td>\n",
       "      <td>335881</td>\n",
       "      <td>50281</td>\n",
       "      <td>0.00068</td>\n",
       "      <td>2018-07-09 06:58:23</td>\n",
       "    </tr>\n",
       "  </tbody>\n",
       "</table>\n",
       "</div>"
      ],
      "text/plain": [
       "            auction_id  message_id  user_id    spend            imp_date\n",
       "0  1011527229225982812      335881    81763  0.00048 2018-07-09 07:14:28\n",
       "1  1019125075080749328      530308    75065  0.00021 2018-07-09 07:09:24\n",
       "2  1026658047695643709      336028    36559  0.00052 2018-07-09 07:10:52\n",
       "3  1031386905892227659      651411    32262  0.00029 2018-07-09 07:30:18\n",
       "4  1037113241780132055      335881    50281  0.00068 2018-07-09 06:58:23"
      ]
     },
     "execution_count": 116,
     "metadata": {},
     "output_type": "execute_result"
    }
   ],
   "source": [
    "df_imp.head()"
   ]
  },
  {
   "cell_type": "code",
   "execution_count": 4,
   "id": "1d76ed36",
   "metadata": {},
   "outputs": [
    {
     "data": {
      "text/plain": [
       "auction_id    0\n",
       "timestamp     0\n",
       "message_id    0\n",
       "user_id       0\n",
       "spend         0\n",
       "dtype: int64"
      ]
     },
     "execution_count": 4,
     "metadata": {},
     "output_type": "execute_result"
    }
   ],
   "source": [
    "df_imp.isnull().sum()"
   ]
  },
  {
   "cell_type": "code",
   "execution_count": 5,
   "id": "31ecc38c",
   "metadata": {},
   "outputs": [],
   "source": [
    "df_imp['imp_date'] = pd.to_datetime(df_imp['timestamp'],unit='s')\n"
   ]
  },
  {
   "cell_type": "code",
   "execution_count": 6,
   "id": "fb4622f9",
   "metadata": {},
   "outputs": [],
   "source": [
    "del df_imp['timestamp']\n"
   ]
  },
  {
   "cell_type": "code",
   "execution_count": 8,
   "id": "3eb588ff",
   "metadata": {},
   "outputs": [
    {
     "data": {
      "text/plain": [
       "Timestamp('2018-07-09 00:09:28')"
      ]
     },
     "execution_count": 8,
     "metadata": {},
     "output_type": "execute_result"
    }
   ],
   "source": [
    "min(df_imp.imp_date)"
   ]
  },
  {
   "cell_type": "code",
   "execution_count": 9,
   "id": "d72e9a2d",
   "metadata": {},
   "outputs": [
    {
     "data": {
      "text/plain": [
       "Timestamp('2018-07-15 19:05:24')"
      ]
     },
     "execution_count": 9,
     "metadata": {},
     "output_type": "execute_result"
    }
   ],
   "source": [
    "max(df_imp.imp_date)"
   ]
  },
  {
   "cell_type": "code",
   "execution_count": 10,
   "id": "e5e8cf63",
   "metadata": {},
   "outputs": [
    {
     "data": {
      "text/plain": [
       "82.06262999999984"
      ]
     },
     "execution_count": 10,
     "metadata": {},
     "output_type": "execute_result"
    }
   ],
   "source": [
    "total_cost = df_imp['spend'].sum()\n",
    "total_cost\n"
   ]
  },
  {
   "cell_type": "code",
   "execution_count": 11,
   "id": "fc5a951a",
   "metadata": {},
   "outputs": [
    {
     "data": {
      "text/plain": [
       "150629"
      ]
     },
     "execution_count": 11,
     "metadata": {},
     "output_type": "execute_result"
    }
   ],
   "source": [
    "total_impressions = df_imp.shape[0]\n",
    "total_impressions"
   ]
  },
  {
   "cell_type": "code",
   "execution_count": 12,
   "id": "afe8c785",
   "metadata": {},
   "outputs": [
    {
     "data": {
      "text/plain": [
       "150513"
      ]
     },
     "execution_count": 12,
     "metadata": {},
     "output_type": "execute_result"
    }
   ],
   "source": [
    "df_imp['auction_id'].nunique()"
   ]
  },
  {
   "cell_type": "markdown",
   "id": "2f5f0bc0",
   "metadata": {},
   "source": [
    "##### Non Unique in Impressions"
   ]
  },
  {
   "cell_type": "code",
   "execution_count": 13,
   "id": "a2ad5f2b",
   "metadata": {},
   "outputs": [
    {
     "data": {
      "text/plain": [
       "2326557348473098606    14\n",
       "8386290978554396711     9\n",
       "1824452139292839290     8\n",
       "8943297806208427834     8\n",
       "8093996434997695502     7\n",
       "3634985409626919235     6\n",
       "5028398392698500485     5\n",
       "8133963243210185438     5\n",
       "7927974799821096064     4\n",
       "2022070982610432329     4\n",
       "4734023302565980785     4\n",
       "2396405569861982654     4\n",
       "2108129232900998849     4\n",
       "2939487640507382393     4\n",
       "5281611421430104840     3\n",
       "8522355830655665659     3\n",
       "6483681017430628472     3\n",
       "8519627519387732069     2\n",
       "8183456030952006901     2\n",
       "9015409397330182400     2\n",
       "4079882425314908043     2\n",
       "3885852085046501630     2\n",
       "2232491258818046207     2\n",
       "3722659191054344952     2\n",
       "1273707929677105329     2\n",
       "1832571499112480437     2\n",
       "7296498057412134549     2\n",
       "5492880419949562693     2\n",
       "2939386060475396589     2\n",
       "7504282777403225196     2\n",
       "1485570851094186479     2\n",
       "6977234717149525631     2\n",
       "5235056917550918009     2\n",
       "7300640351846572173     2\n",
       "2463629866163231374     2\n",
       "3701851909757369667     2\n",
       "5584442764319901108     2\n",
       "5784576308268626567     2\n",
       "7272646392955614133     2\n",
       "7392391732830030146     2\n",
       "4070667513612456641     2\n",
       "1115429320248307899     2\n",
       "6766111159782332148     2\n",
       "558714330775394113      2\n",
       "7370478112125019904     2\n",
       "8355966068927723321     2\n",
       "2960577787952223747     2\n",
       "282968489614001271      2\n",
       "7667284604732465371     2\n",
       "6957968512779517920     2\n",
       "6055461543549888274     2\n",
       "6839122545953557268     2\n",
       "2344406397663897444     2\n",
       "8733606773405939143     2\n",
       "1545275101669312095     2\n",
       "Name: auction_id, dtype: int64"
      ]
     },
     "execution_count": 13,
     "metadata": {},
     "output_type": "execute_result"
    }
   ],
   "source": [
    "df_imp['auction_id'].value_counts().head(55)"
   ]
  },
  {
   "cell_type": "code",
   "execution_count": 14,
   "id": "964f719a",
   "metadata": {},
   "outputs": [
    {
     "data": {
      "text/plain": [
       "69238"
      ]
     },
     "execution_count": 14,
     "metadata": {},
     "output_type": "execute_result"
    }
   ],
   "source": [
    "#total unique users\n",
    "unique_users = df_imp['user_id'].nunique()\n",
    "unique_users"
   ]
  },
  {
   "cell_type": "code",
   "execution_count": 16,
   "id": "699ee06c",
   "metadata": {},
   "outputs": [
    {
     "data": {
      "text/plain": [
       "0.5447996733696688"
      ]
     },
     "execution_count": 16,
     "metadata": {},
     "output_type": "execute_result"
    }
   ],
   "source": [
    "#total_cpm\n",
    "cpm = (total_cost / total_impressions) * 1000\n",
    "cpm"
   ]
  },
  {
   "cell_type": "code",
   "execution_count": 17,
   "id": "01585594",
   "metadata": {},
   "outputs": [
    {
     "data": {
      "text/plain": [
       "0.001185225309800974"
      ]
     },
     "execution_count": 17,
     "metadata": {},
     "output_type": "execute_result"
    }
   ],
   "source": [
    "#cost per unique user\n",
    "cpu = (total_cost / unique_users)\n",
    "cpu"
   ]
  },
  {
   "cell_type": "code",
   "execution_count": 18,
   "id": "7bc80089",
   "metadata": {},
   "outputs": [
    {
     "data": {
      "text/plain": [
       "1.185225309800974"
      ]
     },
     "execution_count": 18,
     "metadata": {},
     "output_type": "execute_result"
    }
   ],
   "source": [
    "#cost per unique thousand users\n",
    "cptu = cpu* 1000\n",
    "cptu"
   ]
  },
  {
   "cell_type": "code",
   "execution_count": 19,
   "id": "2239485d",
   "metadata": {},
   "outputs": [
    {
     "data": {
      "text/plain": [
       "0.5452195491419335"
      ]
     },
     "execution_count": 19,
     "metadata": {},
     "output_type": "execute_result"
    }
   ],
   "source": [
    "#cpm for unique impressions\n",
    "cpm1 = (total_cost / df_imp['auction_id'].nunique()) * 1000\n",
    "cpm1"
   ]
  },
  {
   "cell_type": "markdown",
   "id": "cf1797c7",
   "metadata": {},
   "source": [
    "# Conversion data"
   ]
  },
  {
   "cell_type": "code",
   "execution_count": 21,
   "id": "853fb0ee",
   "metadata": {},
   "outputs": [
    {
     "data": {
      "text/html": [
       "<div>\n",
       "<style scoped>\n",
       "    .dataframe tbody tr th:only-of-type {\n",
       "        vertical-align: middle;\n",
       "    }\n",
       "\n",
       "    .dataframe tbody tr th {\n",
       "        vertical-align: top;\n",
       "    }\n",
       "\n",
       "    .dataframe thead th {\n",
       "        text-align: right;\n",
       "    }\n",
       "</style>\n",
       "<table border=\"1\" class=\"dataframe\">\n",
       "  <thead>\n",
       "    <tr style=\"text-align: right;\">\n",
       "      <th></th>\n",
       "      <th>user_id</th>\n",
       "      <th>timestamp</th>\n",
       "      <th>conversion_id</th>\n",
       "      <th>conversion_name</th>\n",
       "    </tr>\n",
       "  </thead>\n",
       "  <tbody>\n",
       "    <tr>\n",
       "      <th>0</th>\n",
       "      <td>13026</td>\n",
       "      <td>1531121483</td>\n",
       "      <td>285724</td>\n",
       "      <td>visite</td>\n",
       "    </tr>\n",
       "    <tr>\n",
       "      <th>1</th>\n",
       "      <td>14117</td>\n",
       "      <td>1531120340</td>\n",
       "      <td>285724</td>\n",
       "      <td>visite</td>\n",
       "    </tr>\n",
       "    <tr>\n",
       "      <th>2</th>\n",
       "      <td>15472</td>\n",
       "      <td>1531119604</td>\n",
       "      <td>285724</td>\n",
       "      <td>visite</td>\n",
       "    </tr>\n",
       "    <tr>\n",
       "      <th>3</th>\n",
       "      <td>16213</td>\n",
       "      <td>1531119328</td>\n",
       "      <td>760041</td>\n",
       "      <td>vente</td>\n",
       "    </tr>\n",
       "    <tr>\n",
       "      <th>4</th>\n",
       "      <td>16970</td>\n",
       "      <td>1531120617</td>\n",
       "      <td>285724</td>\n",
       "      <td>visite</td>\n",
       "    </tr>\n",
       "    <tr>\n",
       "      <th>...</th>\n",
       "      <td>...</td>\n",
       "      <td>...</td>\n",
       "      <td>...</td>\n",
       "      <td>...</td>\n",
       "    </tr>\n",
       "    <tr>\n",
       "      <th>8888</th>\n",
       "      <td>82493</td>\n",
       "      <td>1531615952</td>\n",
       "      <td>285724</td>\n",
       "      <td>visite</td>\n",
       "    </tr>\n",
       "    <tr>\n",
       "      <th>8889</th>\n",
       "      <td>84722</td>\n",
       "      <td>1531604471</td>\n",
       "      <td>760041</td>\n",
       "      <td>vente</td>\n",
       "    </tr>\n",
       "    <tr>\n",
       "      <th>8890</th>\n",
       "      <td>88614</td>\n",
       "      <td>1531611262</td>\n",
       "      <td>285724</td>\n",
       "      <td>visite</td>\n",
       "    </tr>\n",
       "    <tr>\n",
       "      <th>8891</th>\n",
       "      <td>89556</td>\n",
       "      <td>1531615886</td>\n",
       "      <td>285724</td>\n",
       "      <td>visite</td>\n",
       "    </tr>\n",
       "    <tr>\n",
       "      <th>8892</th>\n",
       "      <td>70845</td>\n",
       "      <td>1531684581</td>\n",
       "      <td>285724</td>\n",
       "      <td>visite</td>\n",
       "    </tr>\n",
       "  </tbody>\n",
       "</table>\n",
       "<p>8893 rows × 4 columns</p>\n",
       "</div>"
      ],
      "text/plain": [
       "      user_id   timestamp  conversion_id conversion_name\n",
       "0       13026  1531121483         285724          visite\n",
       "1       14117  1531120340         285724          visite\n",
       "2       15472  1531119604         285724          visite\n",
       "3       16213  1531119328         760041           vente\n",
       "4       16970  1531120617         285724          visite\n",
       "...       ...         ...            ...             ...\n",
       "8888    82493  1531615952         285724          visite\n",
       "8889    84722  1531604471         760041           vente\n",
       "8890    88614  1531611262         285724          visite\n",
       "8891    89556  1531615886         285724          visite\n",
       "8892    70845  1531684581         285724          visite\n",
       "\n",
       "[8893 rows x 4 columns]"
      ]
     },
     "execution_count": 21,
     "metadata": {},
     "output_type": "execute_result"
    }
   ],
   "source": [
    "df_conv = pd.read_csv(\"Data/conversions.csv\") \n",
    "df_conv"
   ]
  },
  {
   "cell_type": "code",
   "execution_count": 22,
   "id": "a00ce2f0",
   "metadata": {},
   "outputs": [
    {
     "data": {
      "text/plain": [
       "user_id            0\n",
       "timestamp          0\n",
       "conversion_id      0\n",
       "conversion_name    0\n",
       "dtype: int64"
      ]
     },
     "execution_count": 22,
     "metadata": {},
     "output_type": "execute_result"
    }
   ],
   "source": [
    "df_conv.isnull().sum()"
   ]
  },
  {
   "cell_type": "code",
   "execution_count": 23,
   "id": "84f2bdc3",
   "metadata": {},
   "outputs": [
    {
     "data": {
      "text/html": [
       "<div>\n",
       "<style scoped>\n",
       "    .dataframe tbody tr th:only-of-type {\n",
       "        vertical-align: middle;\n",
       "    }\n",
       "\n",
       "    .dataframe tbody tr th {\n",
       "        vertical-align: top;\n",
       "    }\n",
       "\n",
       "    .dataframe thead th {\n",
       "        text-align: right;\n",
       "    }\n",
       "</style>\n",
       "<table border=\"1\" class=\"dataframe\">\n",
       "  <thead>\n",
       "    <tr style=\"text-align: right;\">\n",
       "      <th></th>\n",
       "      <th>user_id</th>\n",
       "      <th>timestamp</th>\n",
       "      <th>conversion_id</th>\n",
       "      <th>conversion_name</th>\n",
       "      <th>conv_date</th>\n",
       "    </tr>\n",
       "  </thead>\n",
       "  <tbody>\n",
       "    <tr>\n",
       "      <th>0</th>\n",
       "      <td>13026</td>\n",
       "      <td>1531121483</td>\n",
       "      <td>285724</td>\n",
       "      <td>visite</td>\n",
       "      <td>2018-07-09 07:31:23</td>\n",
       "    </tr>\n",
       "    <tr>\n",
       "      <th>1</th>\n",
       "      <td>14117</td>\n",
       "      <td>1531120340</td>\n",
       "      <td>285724</td>\n",
       "      <td>visite</td>\n",
       "      <td>2018-07-09 07:12:20</td>\n",
       "    </tr>\n",
       "    <tr>\n",
       "      <th>2</th>\n",
       "      <td>15472</td>\n",
       "      <td>1531119604</td>\n",
       "      <td>285724</td>\n",
       "      <td>visite</td>\n",
       "      <td>2018-07-09 07:00:04</td>\n",
       "    </tr>\n",
       "    <tr>\n",
       "      <th>3</th>\n",
       "      <td>16213</td>\n",
       "      <td>1531119328</td>\n",
       "      <td>760041</td>\n",
       "      <td>vente</td>\n",
       "      <td>2018-07-09 06:55:28</td>\n",
       "    </tr>\n",
       "    <tr>\n",
       "      <th>4</th>\n",
       "      <td>16970</td>\n",
       "      <td>1531120617</td>\n",
       "      <td>285724</td>\n",
       "      <td>visite</td>\n",
       "      <td>2018-07-09 07:16:57</td>\n",
       "    </tr>\n",
       "    <tr>\n",
       "      <th>...</th>\n",
       "      <td>...</td>\n",
       "      <td>...</td>\n",
       "      <td>...</td>\n",
       "      <td>...</td>\n",
       "      <td>...</td>\n",
       "    </tr>\n",
       "    <tr>\n",
       "      <th>8888</th>\n",
       "      <td>82493</td>\n",
       "      <td>1531615952</td>\n",
       "      <td>285724</td>\n",
       "      <td>visite</td>\n",
       "      <td>2018-07-15 00:52:32</td>\n",
       "    </tr>\n",
       "    <tr>\n",
       "      <th>8889</th>\n",
       "      <td>84722</td>\n",
       "      <td>1531604471</td>\n",
       "      <td>760041</td>\n",
       "      <td>vente</td>\n",
       "      <td>2018-07-14 21:41:11</td>\n",
       "    </tr>\n",
       "    <tr>\n",
       "      <th>8890</th>\n",
       "      <td>88614</td>\n",
       "      <td>1531611262</td>\n",
       "      <td>285724</td>\n",
       "      <td>visite</td>\n",
       "      <td>2018-07-14 23:34:22</td>\n",
       "    </tr>\n",
       "    <tr>\n",
       "      <th>8891</th>\n",
       "      <td>89556</td>\n",
       "      <td>1531615886</td>\n",
       "      <td>285724</td>\n",
       "      <td>visite</td>\n",
       "      <td>2018-07-15 00:51:26</td>\n",
       "    </tr>\n",
       "    <tr>\n",
       "      <th>8892</th>\n",
       "      <td>70845</td>\n",
       "      <td>1531684581</td>\n",
       "      <td>285724</td>\n",
       "      <td>visite</td>\n",
       "      <td>2018-07-15 19:56:21</td>\n",
       "    </tr>\n",
       "  </tbody>\n",
       "</table>\n",
       "<p>8893 rows × 5 columns</p>\n",
       "</div>"
      ],
      "text/plain": [
       "      user_id   timestamp  conversion_id conversion_name           conv_date\n",
       "0       13026  1531121483         285724          visite 2018-07-09 07:31:23\n",
       "1       14117  1531120340         285724          visite 2018-07-09 07:12:20\n",
       "2       15472  1531119604         285724          visite 2018-07-09 07:00:04\n",
       "3       16213  1531119328         760041           vente 2018-07-09 06:55:28\n",
       "4       16970  1531120617         285724          visite 2018-07-09 07:16:57\n",
       "...       ...         ...            ...             ...                 ...\n",
       "8888    82493  1531615952         285724          visite 2018-07-15 00:52:32\n",
       "8889    84722  1531604471         760041           vente 2018-07-14 21:41:11\n",
       "8890    88614  1531611262         285724          visite 2018-07-14 23:34:22\n",
       "8891    89556  1531615886         285724          visite 2018-07-15 00:51:26\n",
       "8892    70845  1531684581         285724          visite 2018-07-15 19:56:21\n",
       "\n",
       "[8893 rows x 5 columns]"
      ]
     },
     "execution_count": 23,
     "metadata": {},
     "output_type": "execute_result"
    }
   ],
   "source": [
    "df_conv['conv_date'] = pd.to_datetime(df_conv['timestamp'],unit='s')\n",
    "df_conv\n"
   ]
  },
  {
   "cell_type": "code",
   "execution_count": 24,
   "id": "a7f76e90",
   "metadata": {},
   "outputs": [
    {
     "data": {
      "text/html": [
       "<div>\n",
       "<style scoped>\n",
       "    .dataframe tbody tr th:only-of-type {\n",
       "        vertical-align: middle;\n",
       "    }\n",
       "\n",
       "    .dataframe tbody tr th {\n",
       "        vertical-align: top;\n",
       "    }\n",
       "\n",
       "    .dataframe thead th {\n",
       "        text-align: right;\n",
       "    }\n",
       "</style>\n",
       "<table border=\"1\" class=\"dataframe\">\n",
       "  <thead>\n",
       "    <tr style=\"text-align: right;\">\n",
       "      <th></th>\n",
       "      <th>user_id</th>\n",
       "      <th>conversion_id</th>\n",
       "      <th>conversion_name</th>\n",
       "      <th>conv_date</th>\n",
       "    </tr>\n",
       "  </thead>\n",
       "  <tbody>\n",
       "    <tr>\n",
       "      <th>0</th>\n",
       "      <td>13026</td>\n",
       "      <td>285724</td>\n",
       "      <td>visite</td>\n",
       "      <td>2018-07-09 07:31:23</td>\n",
       "    </tr>\n",
       "    <tr>\n",
       "      <th>1</th>\n",
       "      <td>14117</td>\n",
       "      <td>285724</td>\n",
       "      <td>visite</td>\n",
       "      <td>2018-07-09 07:12:20</td>\n",
       "    </tr>\n",
       "    <tr>\n",
       "      <th>2</th>\n",
       "      <td>15472</td>\n",
       "      <td>285724</td>\n",
       "      <td>visite</td>\n",
       "      <td>2018-07-09 07:00:04</td>\n",
       "    </tr>\n",
       "    <tr>\n",
       "      <th>3</th>\n",
       "      <td>16213</td>\n",
       "      <td>760041</td>\n",
       "      <td>vente</td>\n",
       "      <td>2018-07-09 06:55:28</td>\n",
       "    </tr>\n",
       "    <tr>\n",
       "      <th>4</th>\n",
       "      <td>16970</td>\n",
       "      <td>285724</td>\n",
       "      <td>visite</td>\n",
       "      <td>2018-07-09 07:16:57</td>\n",
       "    </tr>\n",
       "    <tr>\n",
       "      <th>...</th>\n",
       "      <td>...</td>\n",
       "      <td>...</td>\n",
       "      <td>...</td>\n",
       "      <td>...</td>\n",
       "    </tr>\n",
       "    <tr>\n",
       "      <th>8888</th>\n",
       "      <td>82493</td>\n",
       "      <td>285724</td>\n",
       "      <td>visite</td>\n",
       "      <td>2018-07-15 00:52:32</td>\n",
       "    </tr>\n",
       "    <tr>\n",
       "      <th>8889</th>\n",
       "      <td>84722</td>\n",
       "      <td>760041</td>\n",
       "      <td>vente</td>\n",
       "      <td>2018-07-14 21:41:11</td>\n",
       "    </tr>\n",
       "    <tr>\n",
       "      <th>8890</th>\n",
       "      <td>88614</td>\n",
       "      <td>285724</td>\n",
       "      <td>visite</td>\n",
       "      <td>2018-07-14 23:34:22</td>\n",
       "    </tr>\n",
       "    <tr>\n",
       "      <th>8891</th>\n",
       "      <td>89556</td>\n",
       "      <td>285724</td>\n",
       "      <td>visite</td>\n",
       "      <td>2018-07-15 00:51:26</td>\n",
       "    </tr>\n",
       "    <tr>\n",
       "      <th>8892</th>\n",
       "      <td>70845</td>\n",
       "      <td>285724</td>\n",
       "      <td>visite</td>\n",
       "      <td>2018-07-15 19:56:21</td>\n",
       "    </tr>\n",
       "  </tbody>\n",
       "</table>\n",
       "<p>8893 rows × 4 columns</p>\n",
       "</div>"
      ],
      "text/plain": [
       "      user_id  conversion_id conversion_name           conv_date\n",
       "0       13026         285724          visite 2018-07-09 07:31:23\n",
       "1       14117         285724          visite 2018-07-09 07:12:20\n",
       "2       15472         285724          visite 2018-07-09 07:00:04\n",
       "3       16213         760041           vente 2018-07-09 06:55:28\n",
       "4       16970         285724          visite 2018-07-09 07:16:57\n",
       "...       ...            ...             ...                 ...\n",
       "8888    82493         285724          visite 2018-07-15 00:52:32\n",
       "8889    84722         760041           vente 2018-07-14 21:41:11\n",
       "8890    88614         285724          visite 2018-07-14 23:34:22\n",
       "8891    89556         285724          visite 2018-07-15 00:51:26\n",
       "8892    70845         285724          visite 2018-07-15 19:56:21\n",
       "\n",
       "[8893 rows x 4 columns]"
      ]
     },
     "execution_count": 24,
     "metadata": {},
     "output_type": "execute_result"
    }
   ],
   "source": [
    "del df_conv['timestamp']\n",
    "df_conv"
   ]
  },
  {
   "cell_type": "code",
   "execution_count": 25,
   "id": "46cf8830",
   "metadata": {},
   "outputs": [
    {
     "data": {
      "text/plain": [
       "Timestamp('2018-07-09 00:04:19')"
      ]
     },
     "execution_count": 25,
     "metadata": {},
     "output_type": "execute_result"
    }
   ],
   "source": [
    "min(df_conv.conv_date)"
   ]
  },
  {
   "cell_type": "code",
   "execution_count": 26,
   "id": "d4f25266",
   "metadata": {},
   "outputs": [
    {
     "data": {
      "text/plain": [
       "Timestamp('2018-07-15 19:59:10')"
      ]
     },
     "execution_count": 26,
     "metadata": {},
     "output_type": "execute_result"
    }
   ],
   "source": [
    "max(df_conv.conv_date)"
   ]
  },
  {
   "cell_type": "code",
   "execution_count": 28,
   "id": "e596549f",
   "metadata": {},
   "outputs": [
    {
     "data": {
      "text/plain": [
       "visite    6131\n",
       "vente     2762\n",
       "Name: conversion_name, dtype: int64"
      ]
     },
     "execution_count": 28,
     "metadata": {},
     "output_type": "execute_result"
    }
   ],
   "source": [
    "#total visits vs sales\n",
    "df_conv.conversion_name.value_counts()"
   ]
  },
  {
   "cell_type": "markdown",
   "id": "806745d3",
   "metadata": {},
   "source": [
    "# Combined Data"
   ]
  },
  {
   "cell_type": "code",
   "execution_count": 30,
   "id": "44de14ce",
   "metadata": {},
   "outputs": [
    {
     "data": {
      "text/html": [
       "<div>\n",
       "<style scoped>\n",
       "    .dataframe tbody tr th:only-of-type {\n",
       "        vertical-align: middle;\n",
       "    }\n",
       "\n",
       "    .dataframe tbody tr th {\n",
       "        vertical-align: top;\n",
       "    }\n",
       "\n",
       "    .dataframe thead th {\n",
       "        text-align: right;\n",
       "    }\n",
       "</style>\n",
       "<table border=\"1\" class=\"dataframe\">\n",
       "  <thead>\n",
       "    <tr style=\"text-align: right;\">\n",
       "      <th></th>\n",
       "      <th>auction_id</th>\n",
       "      <th>message_id</th>\n",
       "      <th>user_id</th>\n",
       "      <th>spend</th>\n",
       "      <th>imp_date</th>\n",
       "      <th>conversion_id</th>\n",
       "      <th>conversion_name</th>\n",
       "      <th>conv_date</th>\n",
       "    </tr>\n",
       "  </thead>\n",
       "  <tbody>\n",
       "    <tr>\n",
       "      <th>0</th>\n",
       "      <td>1031386905892227659</td>\n",
       "      <td>651411</td>\n",
       "      <td>32262</td>\n",
       "      <td>0.00029</td>\n",
       "      <td>2018-07-09 07:30:18</td>\n",
       "      <td>285724</td>\n",
       "      <td>visite</td>\n",
       "      <td>2018-07-09 12:18:59</td>\n",
       "    </tr>\n",
       "    <tr>\n",
       "      <th>1</th>\n",
       "      <td>7002424012566036536</td>\n",
       "      <td>336028</td>\n",
       "      <td>32262</td>\n",
       "      <td>0.00061</td>\n",
       "      <td>2018-07-09 09:36:22</td>\n",
       "      <td>285724</td>\n",
       "      <td>visite</td>\n",
       "      <td>2018-07-09 12:18:59</td>\n",
       "    </tr>\n",
       "    <tr>\n",
       "      <th>2</th>\n",
       "      <td>2466402414753153137</td>\n",
       "      <td>336028</td>\n",
       "      <td>32262</td>\n",
       "      <td>0.00061</td>\n",
       "      <td>2018-07-11 18:17:15</td>\n",
       "      <td>285724</td>\n",
       "      <td>visite</td>\n",
       "      <td>2018-07-09 12:18:59</td>\n",
       "    </tr>\n",
       "    <tr>\n",
       "      <th>3</th>\n",
       "      <td>2041601436001243868</td>\n",
       "      <td>651411</td>\n",
       "      <td>32262</td>\n",
       "      <td>0.00065</td>\n",
       "      <td>2018-07-12 07:20:37</td>\n",
       "      <td>285724</td>\n",
       "      <td>visite</td>\n",
       "      <td>2018-07-09 12:18:59</td>\n",
       "    </tr>\n",
       "    <tr>\n",
       "      <th>4</th>\n",
       "      <td>1369830363778070617</td>\n",
       "      <td>335881</td>\n",
       "      <td>29806</td>\n",
       "      <td>0.00064</td>\n",
       "      <td>2018-07-09 06:56:34</td>\n",
       "      <td>285724</td>\n",
       "      <td>visite</td>\n",
       "      <td>2018-07-13 15:10:55</td>\n",
       "    </tr>\n",
       "    <tr>\n",
       "      <th>...</th>\n",
       "      <td>...</td>\n",
       "      <td>...</td>\n",
       "      <td>...</td>\n",
       "      <td>...</td>\n",
       "      <td>...</td>\n",
       "      <td>...</td>\n",
       "      <td>...</td>\n",
       "      <td>...</td>\n",
       "    </tr>\n",
       "    <tr>\n",
       "      <th>16164</th>\n",
       "      <td>6619127839878516874</td>\n",
       "      <td>336028</td>\n",
       "      <td>48881</td>\n",
       "      <td>0.00029</td>\n",
       "      <td>2018-07-15 04:08:06</td>\n",
       "      <td>285724</td>\n",
       "      <td>visite</td>\n",
       "      <td>2018-07-11 06:03:34</td>\n",
       "    </tr>\n",
       "    <tr>\n",
       "      <th>16165</th>\n",
       "      <td>6685580618585886334</td>\n",
       "      <td>336028</td>\n",
       "      <td>41188</td>\n",
       "      <td>0.00007</td>\n",
       "      <td>2018-07-15 04:25:20</td>\n",
       "      <td>285724</td>\n",
       "      <td>visite</td>\n",
       "      <td>2018-07-15 10:19:34</td>\n",
       "    </tr>\n",
       "    <tr>\n",
       "      <th>16166</th>\n",
       "      <td>8920701388428247600</td>\n",
       "      <td>336028</td>\n",
       "      <td>40278</td>\n",
       "      <td>0.00024</td>\n",
       "      <td>2018-07-15 04:02:00</td>\n",
       "      <td>760041</td>\n",
       "      <td>vente</td>\n",
       "      <td>2018-07-12 05:11:50</td>\n",
       "    </tr>\n",
       "    <tr>\n",
       "      <th>16167</th>\n",
       "      <td>8147333642810125594</td>\n",
       "      <td>336028</td>\n",
       "      <td>38818</td>\n",
       "      <td>0.00022</td>\n",
       "      <td>2018-07-15 19:04:23</td>\n",
       "      <td>285724</td>\n",
       "      <td>visite</td>\n",
       "      <td>2018-07-14 14:48:10</td>\n",
       "    </tr>\n",
       "    <tr>\n",
       "      <th>16168</th>\n",
       "      <td>8147333642810125594</td>\n",
       "      <td>336028</td>\n",
       "      <td>38818</td>\n",
       "      <td>0.00022</td>\n",
       "      <td>2018-07-15 19:04:23</td>\n",
       "      <td>760041</td>\n",
       "      <td>vente</td>\n",
       "      <td>2018-07-15 15:45:59</td>\n",
       "    </tr>\n",
       "  </tbody>\n",
       "</table>\n",
       "<p>16169 rows × 8 columns</p>\n",
       "</div>"
      ],
      "text/plain": [
       "                auction_id  message_id  user_id    spend            imp_date  \\\n",
       "0      1031386905892227659      651411    32262  0.00029 2018-07-09 07:30:18   \n",
       "1      7002424012566036536      336028    32262  0.00061 2018-07-09 09:36:22   \n",
       "2      2466402414753153137      336028    32262  0.00061 2018-07-11 18:17:15   \n",
       "3      2041601436001243868      651411    32262  0.00065 2018-07-12 07:20:37   \n",
       "4      1369830363778070617      335881    29806  0.00064 2018-07-09 06:56:34   \n",
       "...                    ...         ...      ...      ...                 ...   \n",
       "16164  6619127839878516874      336028    48881  0.00029 2018-07-15 04:08:06   \n",
       "16165  6685580618585886334      336028    41188  0.00007 2018-07-15 04:25:20   \n",
       "16166  8920701388428247600      336028    40278  0.00024 2018-07-15 04:02:00   \n",
       "16167  8147333642810125594      336028    38818  0.00022 2018-07-15 19:04:23   \n",
       "16168  8147333642810125594      336028    38818  0.00022 2018-07-15 19:04:23   \n",
       "\n",
       "       conversion_id conversion_name           conv_date  \n",
       "0             285724          visite 2018-07-09 12:18:59  \n",
       "1             285724          visite 2018-07-09 12:18:59  \n",
       "2             285724          visite 2018-07-09 12:18:59  \n",
       "3             285724          visite 2018-07-09 12:18:59  \n",
       "4             285724          visite 2018-07-13 15:10:55  \n",
       "...              ...             ...                 ...  \n",
       "16164         285724          visite 2018-07-11 06:03:34  \n",
       "16165         285724          visite 2018-07-15 10:19:34  \n",
       "16166         760041           vente 2018-07-12 05:11:50  \n",
       "16167         285724          visite 2018-07-14 14:48:10  \n",
       "16168         760041           vente 2018-07-15 15:45:59  \n",
       "\n",
       "[16169 rows x 8 columns]"
      ]
     },
     "execution_count": 30,
     "metadata": {},
     "output_type": "execute_result"
    }
   ],
   "source": [
    "comb_df1 = pd.merge(df_imp, df_conv, on='user_id', suffixes=('_imp', '_conv'))\n",
    "comb_df1"
   ]
  },
  {
   "cell_type": "code",
   "execution_count": 53,
   "id": "5953cebe",
   "metadata": {},
   "outputs": [
    {
     "data": {
      "text/plain": [
       "69238"
      ]
     },
     "execution_count": 53,
     "metadata": {},
     "output_type": "execute_result"
    }
   ],
   "source": [
    "#unique user impressions\n",
    "df_imp.user_id.nunique()"
   ]
  },
  {
   "cell_type": "code",
   "execution_count": 54,
   "id": "fd39ac0c",
   "metadata": {},
   "outputs": [
    {
     "data": {
      "text/plain": [
       "8373"
      ]
     },
     "execution_count": 54,
     "metadata": {},
     "output_type": "execute_result"
    }
   ],
   "source": [
    "#unique user conversions\n",
    "df_conv.user_id.nunique()"
   ]
  },
  {
   "cell_type": "markdown",
   "id": "5d391ab2",
   "metadata": {},
   "source": [
    "### Rule 1 -> count as conv from impression only if conv time > impression time\n"
   ]
  },
  {
   "cell_type": "code",
   "execution_count": 55,
   "id": "0d8436e8",
   "metadata": {},
   "outputs": [
    {
     "data": {
      "text/html": [
       "<div>\n",
       "<style scoped>\n",
       "    .dataframe tbody tr th:only-of-type {\n",
       "        vertical-align: middle;\n",
       "    }\n",
       "\n",
       "    .dataframe tbody tr th {\n",
       "        vertical-align: top;\n",
       "    }\n",
       "\n",
       "    .dataframe thead th {\n",
       "        text-align: right;\n",
       "    }\n",
       "</style>\n",
       "<table border=\"1\" class=\"dataframe\">\n",
       "  <thead>\n",
       "    <tr style=\"text-align: right;\">\n",
       "      <th></th>\n",
       "      <th>auction_id</th>\n",
       "      <th>message_id</th>\n",
       "      <th>user_id</th>\n",
       "      <th>spend</th>\n",
       "      <th>imp_date</th>\n",
       "      <th>conversion_id</th>\n",
       "      <th>conversion_name</th>\n",
       "      <th>conv_date</th>\n",
       "    </tr>\n",
       "  </thead>\n",
       "  <tbody>\n",
       "    <tr>\n",
       "      <th>0</th>\n",
       "      <td>1031386905892227659</td>\n",
       "      <td>651411</td>\n",
       "      <td>32262</td>\n",
       "      <td>0.00029</td>\n",
       "      <td>2018-07-09 07:30:18</td>\n",
       "      <td>285724</td>\n",
       "      <td>visite</td>\n",
       "      <td>2018-07-09 12:18:59</td>\n",
       "    </tr>\n",
       "    <tr>\n",
       "      <th>1</th>\n",
       "      <td>7002424012566036536</td>\n",
       "      <td>336028</td>\n",
       "      <td>32262</td>\n",
       "      <td>0.00061</td>\n",
       "      <td>2018-07-09 09:36:22</td>\n",
       "      <td>285724</td>\n",
       "      <td>visite</td>\n",
       "      <td>2018-07-09 12:18:59</td>\n",
       "    </tr>\n",
       "    <tr>\n",
       "      <th>4</th>\n",
       "      <td>1369830363778070617</td>\n",
       "      <td>335881</td>\n",
       "      <td>29806</td>\n",
       "      <td>0.00064</td>\n",
       "      <td>2018-07-09 06:56:34</td>\n",
       "      <td>285724</td>\n",
       "      <td>visite</td>\n",
       "      <td>2018-07-13 15:10:55</td>\n",
       "    </tr>\n",
       "    <tr>\n",
       "      <th>5</th>\n",
       "      <td>6770935537018086228</td>\n",
       "      <td>335881</td>\n",
       "      <td>29806</td>\n",
       "      <td>0.00064</td>\n",
       "      <td>2018-07-09 12:47:21</td>\n",
       "      <td>285724</td>\n",
       "      <td>visite</td>\n",
       "      <td>2018-07-13 15:10:55</td>\n",
       "    </tr>\n",
       "    <tr>\n",
       "      <th>6</th>\n",
       "      <td>6955722404886252502</td>\n",
       "      <td>651411</td>\n",
       "      <td>29806</td>\n",
       "      <td>0.00025</td>\n",
       "      <td>2018-07-10 06:14:26</td>\n",
       "      <td>285724</td>\n",
       "      <td>visite</td>\n",
       "      <td>2018-07-13 15:10:55</td>\n",
       "    </tr>\n",
       "    <tr>\n",
       "      <th>...</th>\n",
       "      <td>...</td>\n",
       "      <td>...</td>\n",
       "      <td>...</td>\n",
       "      <td>...</td>\n",
       "      <td>...</td>\n",
       "      <td>...</td>\n",
       "      <td>...</td>\n",
       "      <td>...</td>\n",
       "    </tr>\n",
       "    <tr>\n",
       "      <th>16005</th>\n",
       "      <td>6682814574162461308</td>\n",
       "      <td>336028</td>\n",
       "      <td>88411</td>\n",
       "      <td>0.00029</td>\n",
       "      <td>2018-07-15 05:00:14</td>\n",
       "      <td>760041</td>\n",
       "      <td>vente</td>\n",
       "      <td>2018-07-15 14:10:38</td>\n",
       "    </tr>\n",
       "    <tr>\n",
       "      <th>16012</th>\n",
       "      <td>932252282285917441</td>\n",
       "      <td>336028</td>\n",
       "      <td>70702</td>\n",
       "      <td>0.00077</td>\n",
       "      <td>2018-07-15 05:27:20</td>\n",
       "      <td>285724</td>\n",
       "      <td>visite</td>\n",
       "      <td>2018-07-15 10:45:02</td>\n",
       "    </tr>\n",
       "    <tr>\n",
       "      <th>16017</th>\n",
       "      <td>3093674932027636955</td>\n",
       "      <td>336028</td>\n",
       "      <td>61995</td>\n",
       "      <td>0.00088</td>\n",
       "      <td>2018-07-15 09:33:18</td>\n",
       "      <td>285724</td>\n",
       "      <td>visite</td>\n",
       "      <td>2018-07-15 19:09:21</td>\n",
       "    </tr>\n",
       "    <tr>\n",
       "      <th>16154</th>\n",
       "      <td>3744858819027424781</td>\n",
       "      <td>336028</td>\n",
       "      <td>65719</td>\n",
       "      <td>0.00031</td>\n",
       "      <td>2018-07-15 15:15:16</td>\n",
       "      <td>760041</td>\n",
       "      <td>vente</td>\n",
       "      <td>2018-07-15 18:29:22</td>\n",
       "    </tr>\n",
       "    <tr>\n",
       "      <th>16165</th>\n",
       "      <td>6685580618585886334</td>\n",
       "      <td>336028</td>\n",
       "      <td>41188</td>\n",
       "      <td>0.00007</td>\n",
       "      <td>2018-07-15 04:25:20</td>\n",
       "      <td>285724</td>\n",
       "      <td>visite</td>\n",
       "      <td>2018-07-15 10:19:34</td>\n",
       "    </tr>\n",
       "  </tbody>\n",
       "</table>\n",
       "<p>9582 rows × 8 columns</p>\n",
       "</div>"
      ],
      "text/plain": [
       "                auction_id  message_id  user_id    spend            imp_date  \\\n",
       "0      1031386905892227659      651411    32262  0.00029 2018-07-09 07:30:18   \n",
       "1      7002424012566036536      336028    32262  0.00061 2018-07-09 09:36:22   \n",
       "4      1369830363778070617      335881    29806  0.00064 2018-07-09 06:56:34   \n",
       "5      6770935537018086228      335881    29806  0.00064 2018-07-09 12:47:21   \n",
       "6      6955722404886252502      651411    29806  0.00025 2018-07-10 06:14:26   \n",
       "...                    ...         ...      ...      ...                 ...   \n",
       "16005  6682814574162461308      336028    88411  0.00029 2018-07-15 05:00:14   \n",
       "16012   932252282285917441      336028    70702  0.00077 2018-07-15 05:27:20   \n",
       "16017  3093674932027636955      336028    61995  0.00088 2018-07-15 09:33:18   \n",
       "16154  3744858819027424781      336028    65719  0.00031 2018-07-15 15:15:16   \n",
       "16165  6685580618585886334      336028    41188  0.00007 2018-07-15 04:25:20   \n",
       "\n",
       "       conversion_id conversion_name           conv_date  \n",
       "0             285724          visite 2018-07-09 12:18:59  \n",
       "1             285724          visite 2018-07-09 12:18:59  \n",
       "4             285724          visite 2018-07-13 15:10:55  \n",
       "5             285724          visite 2018-07-13 15:10:55  \n",
       "6             285724          visite 2018-07-13 15:10:55  \n",
       "...              ...             ...                 ...  \n",
       "16005         760041           vente 2018-07-15 14:10:38  \n",
       "16012         285724          visite 2018-07-15 10:45:02  \n",
       "16017         285724          visite 2018-07-15 19:09:21  \n",
       "16154         760041           vente 2018-07-15 18:29:22  \n",
       "16165         285724          visite 2018-07-15 10:19:34  \n",
       "\n",
       "[9582 rows x 8 columns]"
      ]
     },
     "execution_count": 55,
     "metadata": {},
     "output_type": "execute_result"
    }
   ],
   "source": [
    "#drop the ones where conv timestamp < imp timestamp \n",
    "comb_df1 = comb_df1[comb_df1['conv_date'] > comb_df1['imp_date']]\n",
    "comb_df1"
   ]
  },
  {
   "cell_type": "code",
   "execution_count": 60,
   "id": "22d07986",
   "metadata": {},
   "outputs": [
    {
     "data": {
      "text/plain": [
       "conversion_name\n",
       "vente     3000\n",
       "visite    6582\n",
       "Name: user_id, dtype: int64"
      ]
     },
     "execution_count": 60,
     "metadata": {},
     "output_type": "execute_result"
    }
   ],
   "source": [
    "#assigned convertions\n",
    "conv_total = comb_df1.groupby('conversion_name')['user_id'].count()\n",
    "conv_total"
   ]
  },
  {
   "cell_type": "code",
   "execution_count": 61,
   "id": "5dab96ab",
   "metadata": {},
   "outputs": [
    {
     "data": {
      "text/plain": [
       "conversion_name\n",
       "vente     0.027354\n",
       "visite    0.012468\n",
       "Name: user_id, dtype: float64"
      ]
     },
     "execution_count": 61,
     "metadata": {},
     "output_type": "execute_result"
    }
   ],
   "source": [
    "#CPA\n",
    "cpa = total_cost / conv_total\n",
    "cpa"
   ]
  },
  {
   "cell_type": "markdown",
   "id": "6743cde5",
   "metadata": {},
   "source": [
    "### Rule change -> count as conv from imp, only if conversion within 1 day of impression"
   ]
  },
  {
   "cell_type": "code",
   "execution_count": 63,
   "id": "fc2bf0d5",
   "metadata": {},
   "outputs": [
    {
     "data": {
      "text/html": [
       "<div>\n",
       "<style scoped>\n",
       "    .dataframe tbody tr th:only-of-type {\n",
       "        vertical-align: middle;\n",
       "    }\n",
       "\n",
       "    .dataframe tbody tr th {\n",
       "        vertical-align: top;\n",
       "    }\n",
       "\n",
       "    .dataframe thead th {\n",
       "        text-align: right;\n",
       "    }\n",
       "</style>\n",
       "<table border=\"1\" class=\"dataframe\">\n",
       "  <thead>\n",
       "    <tr style=\"text-align: right;\">\n",
       "      <th></th>\n",
       "      <th>auction_id</th>\n",
       "      <th>message_id</th>\n",
       "      <th>user_id</th>\n",
       "      <th>spend</th>\n",
       "      <th>imp_date</th>\n",
       "      <th>conversion_id</th>\n",
       "      <th>conversion_name</th>\n",
       "      <th>conv_date</th>\n",
       "    </tr>\n",
       "  </thead>\n",
       "  <tbody>\n",
       "    <tr>\n",
       "      <th>0</th>\n",
       "      <td>1031386905892227659</td>\n",
       "      <td>651411</td>\n",
       "      <td>32262</td>\n",
       "      <td>0.00029</td>\n",
       "      <td>2018-07-09 07:30:18</td>\n",
       "      <td>285724</td>\n",
       "      <td>visite</td>\n",
       "      <td>2018-07-09 12:18:59</td>\n",
       "    </tr>\n",
       "    <tr>\n",
       "      <th>1</th>\n",
       "      <td>7002424012566036536</td>\n",
       "      <td>336028</td>\n",
       "      <td>32262</td>\n",
       "      <td>0.00061</td>\n",
       "      <td>2018-07-09 09:36:22</td>\n",
       "      <td>285724</td>\n",
       "      <td>visite</td>\n",
       "      <td>2018-07-09 12:18:59</td>\n",
       "    </tr>\n",
       "    <tr>\n",
       "      <th>42</th>\n",
       "      <td>6781417062508112820</td>\n",
       "      <td>336028</td>\n",
       "      <td>63548</td>\n",
       "      <td>0.00074</td>\n",
       "      <td>2018-07-12 12:40:17</td>\n",
       "      <td>760041</td>\n",
       "      <td>vente</td>\n",
       "      <td>2018-07-12 14:04:00</td>\n",
       "    </tr>\n",
       "    <tr>\n",
       "      <th>53</th>\n",
       "      <td>242695769126766696</td>\n",
       "      <td>335881</td>\n",
       "      <td>53229</td>\n",
       "      <td>0.00054</td>\n",
       "      <td>2018-07-09 07:30:36</td>\n",
       "      <td>760041</td>\n",
       "      <td>vente</td>\n",
       "      <td>2018-07-09 11:37:34</td>\n",
       "    </tr>\n",
       "    <tr>\n",
       "      <th>56</th>\n",
       "      <td>1095269358252709049</td>\n",
       "      <td>336028</td>\n",
       "      <td>25994</td>\n",
       "      <td>0.00059</td>\n",
       "      <td>2018-07-10 18:14:05</td>\n",
       "      <td>285724</td>\n",
       "      <td>visite</td>\n",
       "      <td>2018-07-11 06:02:25</td>\n",
       "    </tr>\n",
       "    <tr>\n",
       "      <th>...</th>\n",
       "      <td>...</td>\n",
       "      <td>...</td>\n",
       "      <td>...</td>\n",
       "      <td>...</td>\n",
       "      <td>...</td>\n",
       "      <td>...</td>\n",
       "      <td>...</td>\n",
       "      <td>...</td>\n",
       "    </tr>\n",
       "    <tr>\n",
       "      <th>16005</th>\n",
       "      <td>6682814574162461308</td>\n",
       "      <td>336028</td>\n",
       "      <td>88411</td>\n",
       "      <td>0.00029</td>\n",
       "      <td>2018-07-15 05:00:14</td>\n",
       "      <td>760041</td>\n",
       "      <td>vente</td>\n",
       "      <td>2018-07-15 14:10:38</td>\n",
       "    </tr>\n",
       "    <tr>\n",
       "      <th>16012</th>\n",
       "      <td>932252282285917441</td>\n",
       "      <td>336028</td>\n",
       "      <td>70702</td>\n",
       "      <td>0.00077</td>\n",
       "      <td>2018-07-15 05:27:20</td>\n",
       "      <td>285724</td>\n",
       "      <td>visite</td>\n",
       "      <td>2018-07-15 10:45:02</td>\n",
       "    </tr>\n",
       "    <tr>\n",
       "      <th>16017</th>\n",
       "      <td>3093674932027636955</td>\n",
       "      <td>336028</td>\n",
       "      <td>61995</td>\n",
       "      <td>0.00088</td>\n",
       "      <td>2018-07-15 09:33:18</td>\n",
       "      <td>285724</td>\n",
       "      <td>visite</td>\n",
       "      <td>2018-07-15 19:09:21</td>\n",
       "    </tr>\n",
       "    <tr>\n",
       "      <th>16154</th>\n",
       "      <td>3744858819027424781</td>\n",
       "      <td>336028</td>\n",
       "      <td>65719</td>\n",
       "      <td>0.00031</td>\n",
       "      <td>2018-07-15 15:15:16</td>\n",
       "      <td>760041</td>\n",
       "      <td>vente</td>\n",
       "      <td>2018-07-15 18:29:22</td>\n",
       "    </tr>\n",
       "    <tr>\n",
       "      <th>16165</th>\n",
       "      <td>6685580618585886334</td>\n",
       "      <td>336028</td>\n",
       "      <td>41188</td>\n",
       "      <td>0.00007</td>\n",
       "      <td>2018-07-15 04:25:20</td>\n",
       "      <td>285724</td>\n",
       "      <td>visite</td>\n",
       "      <td>2018-07-15 10:19:34</td>\n",
       "    </tr>\n",
       "  </tbody>\n",
       "</table>\n",
       "<p>2234 rows × 8 columns</p>\n",
       "</div>"
      ],
      "text/plain": [
       "                auction_id  message_id  user_id    spend            imp_date  \\\n",
       "0      1031386905892227659      651411    32262  0.00029 2018-07-09 07:30:18   \n",
       "1      7002424012566036536      336028    32262  0.00061 2018-07-09 09:36:22   \n",
       "42     6781417062508112820      336028    63548  0.00074 2018-07-12 12:40:17   \n",
       "53      242695769126766696      335881    53229  0.00054 2018-07-09 07:30:36   \n",
       "56     1095269358252709049      336028    25994  0.00059 2018-07-10 18:14:05   \n",
       "...                    ...         ...      ...      ...                 ...   \n",
       "16005  6682814574162461308      336028    88411  0.00029 2018-07-15 05:00:14   \n",
       "16012   932252282285917441      336028    70702  0.00077 2018-07-15 05:27:20   \n",
       "16017  3093674932027636955      336028    61995  0.00088 2018-07-15 09:33:18   \n",
       "16154  3744858819027424781      336028    65719  0.00031 2018-07-15 15:15:16   \n",
       "16165  6685580618585886334      336028    41188  0.00007 2018-07-15 04:25:20   \n",
       "\n",
       "       conversion_id conversion_name           conv_date  \n",
       "0             285724          visite 2018-07-09 12:18:59  \n",
       "1             285724          visite 2018-07-09 12:18:59  \n",
       "42            760041           vente 2018-07-12 14:04:00  \n",
       "53            760041           vente 2018-07-09 11:37:34  \n",
       "56            285724          visite 2018-07-11 06:02:25  \n",
       "...              ...             ...                 ...  \n",
       "16005         760041           vente 2018-07-15 14:10:38  \n",
       "16012         285724          visite 2018-07-15 10:45:02  \n",
       "16017         285724          visite 2018-07-15 19:09:21  \n",
       "16154         760041           vente 2018-07-15 18:29:22  \n",
       "16165         285724          visite 2018-07-15 10:19:34  \n",
       "\n",
       "[2234 rows x 8 columns]"
      ]
     },
     "execution_count": 63,
     "metadata": {},
     "output_type": "execute_result"
    }
   ],
   "source": [
    "from datetime import timedelta\n",
    "\n",
    "comb_df2 = comb_df1[comb_df1['conv_date'] < comb_df1['imp_date'] + timedelta(days=1)]\n",
    "comb_df2"
   ]
  },
  {
   "cell_type": "code",
   "execution_count": 65,
   "id": "cb5179e5",
   "metadata": {},
   "outputs": [
    {
     "data": {
      "text/plain": [
       "conversion_name\n",
       "vente      707\n",
       "visite    1527\n",
       "Name: user_id, dtype: int64"
      ]
     },
     "execution_count": 65,
     "metadata": {},
     "output_type": "execute_result"
    }
   ],
   "source": [
    "#assigned conv\n",
    "conv_total2 = comb_df2.groupby('conversion_name')['user_id'].count()\n",
    "conv_total2"
   ]
  },
  {
   "cell_type": "code",
   "execution_count": 66,
   "id": "81181e17",
   "metadata": {},
   "outputs": [
    {
     "data": {
      "text/plain": [
       "conversion_name\n",
       "vente     0.116072\n",
       "visite    0.053741\n",
       "Name: user_id, dtype: float64"
      ]
     },
     "execution_count": 66,
     "metadata": {},
     "output_type": "execute_result"
    }
   ],
   "source": [
    "#CPA\n",
    "cpa2 = total_cost / conv_total2\n",
    "cpa2"
   ]
  },
  {
   "cell_type": "code",
   "execution_count": 67,
   "id": "cf13f249",
   "metadata": {},
   "outputs": [
    {
     "data": {
      "text/plain": [
       "2.1755250007221467"
      ]
     },
     "execution_count": 67,
     "metadata": {},
     "output_type": "execute_result"
    }
   ],
   "source": [
    "repetition = total_impressions / unique_users\n",
    "repetition"
   ]
  },
  {
   "cell_type": "markdown",
   "id": "d8f71432",
   "metadata": {},
   "source": [
    "### i.Date range, ii. Performance stats iii. Message/ad stats distribution"
   ]
  },
  {
   "cell_type": "markdown",
   "id": "7ee115b4",
   "metadata": {},
   "source": [
    "#### i. 2018-07-09 00:04:19 to 2018-07-15 19:59:10 (yyyy-mm-dd) [Conversion]"
   ]
  },
  {
   "cell_type": "markdown",
   "id": "b278d100",
   "metadata": {},
   "source": [
    "#### ii."
   ]
  },
  {
   "cell_type": "code",
   "execution_count": 86,
   "id": "8f09429b",
   "metadata": {},
   "outputs": [],
   "source": [
    "performance_stats = {\n",
    "    'Total Cost': total_cost,\n",
    "    'CPM': cpm,\n",
    "    'Total Impressions': total_impressions,\n",
    "    'Unique Users Impressed': unique_users,\n",
    "    'Repetition': repetition,\n",
    "    'Conversions Assigned': conv_total,\n",
    "    'CPA': cpa\n",
    "}"
   ]
  },
  {
   "cell_type": "code",
   "execution_count": 87,
   "id": "63671d75",
   "metadata": {},
   "outputs": [
    {
     "data": {
      "text/plain": [
       "{'Total Cost': 82.06262999999984,\n",
       " 'CPM': 0.5447996733696688,\n",
       " 'Total Impressions': 150629,\n",
       " 'Unique Users Impressed': 69238,\n",
       " 'Repetition': 2.1755250007221467,\n",
       " 'Conversions Assigned': conversion_name\n",
       " vente     3000\n",
       " visite    6582\n",
       " Name: user_id, dtype: int64,\n",
       " 'CPA': conversion_name\n",
       " vente     0.027354\n",
       " visite    0.012468\n",
       " Name: user_id, dtype: float64}"
      ]
     },
     "execution_count": 87,
     "metadata": {},
     "output_type": "execute_result"
    }
   ],
   "source": [
    "performance_stats"
   ]
  },
  {
   "cell_type": "code",
   "execution_count": 130,
   "id": "77d4689e",
   "metadata": {},
   "outputs": [
    {
     "data": {
      "text/html": [
       "<div>\n",
       "<style scoped>\n",
       "    .dataframe tbody tr th:only-of-type {\n",
       "        vertical-align: middle;\n",
       "    }\n",
       "\n",
       "    .dataframe tbody tr th {\n",
       "        vertical-align: top;\n",
       "    }\n",
       "\n",
       "    .dataframe thead th {\n",
       "        text-align: right;\n",
       "    }\n",
       "</style>\n",
       "<table border=\"1\" class=\"dataframe\">\n",
       "  <thead>\n",
       "    <tr style=\"text-align: right;\">\n",
       "      <th></th>\n",
       "      <th>Total Cost</th>\n",
       "      <th>CPM</th>\n",
       "      <th>Total Impressions</th>\n",
       "      <th>Unique Users Impressed</th>\n",
       "      <th>Repetition</th>\n",
       "      <th>Conversions Assigned (Visits)</th>\n",
       "      <th>Conversions Assigned (Sales)</th>\n",
       "      <th>CPA (Visits)</th>\n",
       "      <th>CPA (Sales)</th>\n",
       "    </tr>\n",
       "  </thead>\n",
       "  <tbody>\n",
       "    <tr>\n",
       "      <th>0</th>\n",
       "      <td>82.06263</td>\n",
       "      <td>0.5448</td>\n",
       "      <td>150629</td>\n",
       "      <td>69238</td>\n",
       "      <td>2.17553</td>\n",
       "      <td>6582</td>\n",
       "      <td>3000</td>\n",
       "      <td>0.01247</td>\n",
       "      <td>0.02735</td>\n",
       "    </tr>\n",
       "  </tbody>\n",
       "</table>\n",
       "</div>"
      ],
      "text/plain": [
       "   Total Cost     CPM  Total Impressions  Unique Users Impressed  Repetition  \\\n",
       "0    82.06263  0.5448             150629                   69238     2.17553   \n",
       "\n",
       "   Conversions Assigned (Visits)  Conversions Assigned (Sales)  CPA (Visits)  \\\n",
       "0                           6582                          3000       0.01247   \n",
       "\n",
       "   CPA (Sales)  \n",
       "0      0.02735  "
      ]
     },
     "execution_count": 130,
     "metadata": {},
     "output_type": "execute_result"
    }
   ],
   "source": [
    "import pandas as pd\n",
    "\n",
    "# Data for constructing the table\n",
    "data = {\n",
    "    'Total Cost': [82.06263],\n",
    "    'CPM': [0.54480],\n",
    "    'Total Impressions': [150629],\n",
    "    'Unique Users Impressed': [69238],\n",
    "    'Repetition': [2.17553],\n",
    "    'Conversions Assigned (Visits)': [6582],\n",
    "    'Conversions Assigned (Sales)': [3000],\n",
    "    'CPA (Visits)': [0.01247],\n",
    "    'CPA (Sales)': [0.02735]\n",
    "}\n",
    "\n",
    "# Create DataFrame\n",
    "performance_stats_df = pd.DataFrame(data)\n",
    "\n",
    "# Display the DataFrame\n",
    "performance_stats_df\n"
   ]
  },
  {
   "cell_type": "markdown",
   "id": "e6fa6a91",
   "metadata": {},
   "source": [
    "#### iii."
   ]
  },
  {
   "cell_type": "code",
   "execution_count": 88,
   "id": "527f3009",
   "metadata": {},
   "outputs": [
    {
     "data": {
      "text/plain": [
       "336028    62603\n",
       "335881    39870\n",
       "530308    28016\n",
       "651411    20140\n",
       "Name: message_id, dtype: int64"
      ]
     },
     "execution_count": 88,
     "metadata": {},
     "output_type": "execute_result"
    }
   ],
   "source": [
    "df_imp.message_id.value_counts()"
   ]
  },
  {
   "cell_type": "code",
   "execution_count": 123,
   "id": "b88ab04f",
   "metadata": {},
   "outputs": [
    {
     "data": {
      "text/html": [
       "<div>\n",
       "<style scoped>\n",
       "    .dataframe tbody tr th:only-of-type {\n",
       "        vertical-align: middle;\n",
       "    }\n",
       "\n",
       "    .dataframe tbody tr th {\n",
       "        vertical-align: top;\n",
       "    }\n",
       "\n",
       "    .dataframe thead th {\n",
       "        text-align: right;\n",
       "    }\n",
       "</style>\n",
       "<table border=\"1\" class=\"dataframe\">\n",
       "  <thead>\n",
       "    <tr style=\"text-align: right;\">\n",
       "      <th></th>\n",
       "      <th>message_id</th>\n",
       "      <th>user_id</th>\n",
       "    </tr>\n",
       "  </thead>\n",
       "  <tbody>\n",
       "    <tr>\n",
       "      <th>0</th>\n",
       "      <td>335881</td>\n",
       "      <td>39870</td>\n",
       "    </tr>\n",
       "    <tr>\n",
       "      <th>1</th>\n",
       "      <td>336028</td>\n",
       "      <td>62603</td>\n",
       "    </tr>\n",
       "    <tr>\n",
       "      <th>2</th>\n",
       "      <td>530308</td>\n",
       "      <td>28016</td>\n",
       "    </tr>\n",
       "    <tr>\n",
       "      <th>3</th>\n",
       "      <td>651411</td>\n",
       "      <td>20140</td>\n",
       "    </tr>\n",
       "  </tbody>\n",
       "</table>\n",
       "</div>"
      ],
      "text/plain": [
       "   message_id  user_id\n",
       "0      335881    39870\n",
       "1      336028    62603\n",
       "2      530308    28016\n",
       "3      651411    20140"
      ]
     },
     "execution_count": 123,
     "metadata": {},
     "output_type": "execute_result"
    }
   ],
   "source": [
    "#count of user_ids for each message\n",
    "ad_user = df_imp[['message_id','user_id']].groupby(['message_id']).count().reset_index()\n",
    "ad_user"
   ]
  },
  {
   "cell_type": "code",
   "execution_count": 124,
   "id": "7ab084bd",
   "metadata": {},
   "outputs": [
    {
     "data": {
      "text/plain": [
       "150629"
      ]
     },
     "execution_count": 124,
     "metadata": {},
     "output_type": "execute_result"
    }
   ],
   "source": [
    "#total users\n",
    "users_total = ad_user.user_id.sum()\n",
    "users_total"
   ]
  },
  {
   "cell_type": "code",
   "execution_count": 125,
   "id": "31d8b43a",
   "metadata": {},
   "outputs": [
    {
     "data": {
      "text/html": [
       "<div>\n",
       "<style scoped>\n",
       "    .dataframe tbody tr th:only-of-type {\n",
       "        vertical-align: middle;\n",
       "    }\n",
       "\n",
       "    .dataframe tbody tr th {\n",
       "        vertical-align: top;\n",
       "    }\n",
       "\n",
       "    .dataframe thead th {\n",
       "        text-align: right;\n",
       "    }\n",
       "</style>\n",
       "<table border=\"1\" class=\"dataframe\">\n",
       "  <thead>\n",
       "    <tr style=\"text-align: right;\">\n",
       "      <th></th>\n",
       "      <th>message_id</th>\n",
       "      <th>user_id</th>\n",
       "      <th>Distribution</th>\n",
       "    </tr>\n",
       "  </thead>\n",
       "  <tbody>\n",
       "    <tr>\n",
       "      <th>0</th>\n",
       "      <td>335881</td>\n",
       "      <td>39870</td>\n",
       "      <td>26.469007</td>\n",
       "    </tr>\n",
       "    <tr>\n",
       "      <th>1</th>\n",
       "      <td>336028</td>\n",
       "      <td>62603</td>\n",
       "      <td>41.561054</td>\n",
       "    </tr>\n",
       "    <tr>\n",
       "      <th>2</th>\n",
       "      <td>530308</td>\n",
       "      <td>28016</td>\n",
       "      <td>18.599340</td>\n",
       "    </tr>\n",
       "    <tr>\n",
       "      <th>3</th>\n",
       "      <td>651411</td>\n",
       "      <td>20140</td>\n",
       "      <td>13.370599</td>\n",
       "    </tr>\n",
       "  </tbody>\n",
       "</table>\n",
       "</div>"
      ],
      "text/plain": [
       "   message_id  user_id  Distribution\n",
       "0      335881    39870     26.469007\n",
       "1      336028    62603     41.561054\n",
       "2      530308    28016     18.599340\n",
       "3      651411    20140     13.370599"
      ]
     },
     "execution_count": 125,
     "metadata": {},
     "output_type": "execute_result"
    }
   ],
   "source": [
    "#distribution of users\n",
    "ad_user['Distribution']= ad_user.user_id/users_total*100\n",
    "ad_user"
   ]
  },
  {
   "cell_type": "code",
   "execution_count": 126,
   "id": "a364aa2a",
   "metadata": {},
   "outputs": [
    {
     "data": {
      "text/html": [
       "<div>\n",
       "<style scoped>\n",
       "    .dataframe tbody tr th:only-of-type {\n",
       "        vertical-align: middle;\n",
       "    }\n",
       "\n",
       "    .dataframe tbody tr th {\n",
       "        vertical-align: top;\n",
       "    }\n",
       "\n",
       "    .dataframe thead th {\n",
       "        text-align: right;\n",
       "    }\n",
       "</style>\n",
       "<table border=\"1\" class=\"dataframe\">\n",
       "  <thead>\n",
       "    <tr style=\"text-align: right;\">\n",
       "      <th></th>\n",
       "      <th>Number of different messages</th>\n",
       "      <th>Number of users impressed</th>\n",
       "      <th>Distribution</th>\n",
       "    </tr>\n",
       "  </thead>\n",
       "  <tbody>\n",
       "    <tr>\n",
       "      <th>0</th>\n",
       "      <td>335881</td>\n",
       "      <td>39870</td>\n",
       "      <td>26.469007</td>\n",
       "    </tr>\n",
       "    <tr>\n",
       "      <th>1</th>\n",
       "      <td>336028</td>\n",
       "      <td>62603</td>\n",
       "      <td>41.561054</td>\n",
       "    </tr>\n",
       "    <tr>\n",
       "      <th>2</th>\n",
       "      <td>530308</td>\n",
       "      <td>28016</td>\n",
       "      <td>18.599340</td>\n",
       "    </tr>\n",
       "    <tr>\n",
       "      <th>3</th>\n",
       "      <td>651411</td>\n",
       "      <td>20140</td>\n",
       "      <td>13.370599</td>\n",
       "    </tr>\n",
       "  </tbody>\n",
       "</table>\n",
       "</div>"
      ],
      "text/plain": [
       "   Number of different messages  Number of users impressed  Distribution\n",
       "0                        335881                      39870     26.469007\n",
       "1                        336028                      62603     41.561054\n",
       "2                        530308                      28016     18.599340\n",
       "3                        651411                      20140     13.370599"
      ]
     },
     "execution_count": 126,
     "metadata": {},
     "output_type": "execute_result"
    }
   ],
   "source": [
    "ad_user.rename(columns = {'message_id':'Number of different messages','user_id':'Number of users impressed'}, inplace = True)\n",
    "ad_user"
   ]
  },
  {
   "cell_type": "markdown",
   "id": "b9507abd",
   "metadata": {},
   "source": [
    "### Unique user_id exposure\n",
    "#### One user might be exposed to multiple Ads"
   ]
  },
  {
   "cell_type": "markdown",
   "id": "3a047ac8",
   "metadata": {},
   "source": [
    "#### iv."
   ]
  },
  {
   "cell_type": "code",
   "execution_count": 94,
   "id": "bde2c386",
   "metadata": {},
   "outputs": [],
   "source": [
    "performance_stats2 = {\n",
    "    'Total Cost': total_cost,\n",
    "    'CPM': cpm,\n",
    "    'Total Impressions': total_impressions,\n",
    "    'Unique Users Impressed': unique_users,\n",
    "    'Repetition': repetition,\n",
    "    'Conversions Assigned': conv_total2,\n",
    "    'CPA': cpa2\n",
    "}"
   ]
  },
  {
   "cell_type": "code",
   "execution_count": 95,
   "id": "b2d6ecdb",
   "metadata": {},
   "outputs": [
    {
     "data": {
      "text/plain": [
       "{'Total Cost': 82.06262999999984,\n",
       " 'CPM': 0.5447996733696688,\n",
       " 'Total Impressions': 150629,\n",
       " 'Unique Users Impressed': 69238,\n",
       " 'Repetition': 2.1755250007221467,\n",
       " 'Conversions Assigned': conversion_name\n",
       " vente      707\n",
       " visite    1527\n",
       " Name: user_id, dtype: int64,\n",
       " 'CPA': conversion_name\n",
       " vente     0.116072\n",
       " visite    0.053741\n",
       " Name: user_id, dtype: float64}"
      ]
     },
     "execution_count": 95,
     "metadata": {},
     "output_type": "execute_result"
    }
   ],
   "source": [
    "performance_stats2"
   ]
  },
  {
   "cell_type": "markdown",
   "id": "b3d7a7fe",
   "metadata": {},
   "source": []
  },
  {
   "cell_type": "code",
   "execution_count": null,
   "id": "e7ee51b8",
   "metadata": {},
   "outputs": [],
   "source": [
    "# Issues\n",
    "#1. split by message type with users:\n",
    "    #two ways to approach a. by removing the duplicates in user_id and then split by message type\n",
    "    #b. split impressions by meesage type and then find unique.\n",
    "    #a. some user ids might be missing as it might be a duplicate since they must have viewed multiple ads\n",
    "    #b. some user ids in typ1 might be present in typ2 as well."
   ]
  },
  {
   "cell_type": "code",
   "execution_count": 98,
   "id": "7a18526e",
   "metadata": {},
   "outputs": [
    {
     "data": {
      "text/html": [
       "<div>\n",
       "<style scoped>\n",
       "    .dataframe tbody tr th:only-of-type {\n",
       "        vertical-align: middle;\n",
       "    }\n",
       "\n",
       "    .dataframe tbody tr th {\n",
       "        vertical-align: top;\n",
       "    }\n",
       "\n",
       "    .dataframe thead th {\n",
       "        text-align: right;\n",
       "    }\n",
       "</style>\n",
       "<table border=\"1\" class=\"dataframe\">\n",
       "  <thead>\n",
       "    <tr style=\"text-align: right;\">\n",
       "      <th></th>\n",
       "      <th>auction_id</th>\n",
       "      <th>message_id</th>\n",
       "      <th>user_id</th>\n",
       "      <th>spend</th>\n",
       "      <th>imp_date</th>\n",
       "    </tr>\n",
       "  </thead>\n",
       "  <tbody>\n",
       "    <tr>\n",
       "      <th>1</th>\n",
       "      <td>1019125075080749328</td>\n",
       "      <td>530308</td>\n",
       "      <td>75065</td>\n",
       "      <td>0.00021</td>\n",
       "      <td>2018-07-09 07:09:24</td>\n",
       "    </tr>\n",
       "    <tr>\n",
       "      <th>3</th>\n",
       "      <td>1031386905892227659</td>\n",
       "      <td>651411</td>\n",
       "      <td>32262</td>\n",
       "      <td>0.00029</td>\n",
       "      <td>2018-07-09 07:30:18</td>\n",
       "    </tr>\n",
       "    <tr>\n",
       "      <th>8</th>\n",
       "      <td>1092470705399773146</td>\n",
       "      <td>530308</td>\n",
       "      <td>10984</td>\n",
       "      <td>0.00117</td>\n",
       "      <td>2018-07-09 06:59:40</td>\n",
       "    </tr>\n",
       "    <tr>\n",
       "      <th>10</th>\n",
       "      <td>112494249160477052</td>\n",
       "      <td>651411</td>\n",
       "      <td>75346</td>\n",
       "      <td>0.00034</td>\n",
       "      <td>2018-07-09 07:17:42</td>\n",
       "    </tr>\n",
       "    <tr>\n",
       "      <th>12</th>\n",
       "      <td>1167554906916683431</td>\n",
       "      <td>530308</td>\n",
       "      <td>59343</td>\n",
       "      <td>0.00008</td>\n",
       "      <td>2018-07-09 07:03:27</td>\n",
       "    </tr>\n",
       "    <tr>\n",
       "      <th>...</th>\n",
       "      <td>...</td>\n",
       "      <td>...</td>\n",
       "      <td>...</td>\n",
       "      <td>...</td>\n",
       "      <td>...</td>\n",
       "    </tr>\n",
       "    <tr>\n",
       "      <th>150603</th>\n",
       "      <td>87552326290426029</td>\n",
       "      <td>530308</td>\n",
       "      <td>49776</td>\n",
       "      <td>0.00013</td>\n",
       "      <td>2018-07-15 19:03:52</td>\n",
       "    </tr>\n",
       "    <tr>\n",
       "      <th>150609</th>\n",
       "      <td>1156932924028013178</td>\n",
       "      <td>530308</td>\n",
       "      <td>20363</td>\n",
       "      <td>0.00029</td>\n",
       "      <td>2018-07-15 19:04:39</td>\n",
       "    </tr>\n",
       "    <tr>\n",
       "      <th>150612</th>\n",
       "      <td>3084387555436716438</td>\n",
       "      <td>530308</td>\n",
       "      <td>43797</td>\n",
       "      <td>0.00079</td>\n",
       "      <td>2018-07-15 19:04:51</td>\n",
       "    </tr>\n",
       "    <tr>\n",
       "      <th>150615</th>\n",
       "      <td>5818269225803916040</td>\n",
       "      <td>530308</td>\n",
       "      <td>85899</td>\n",
       "      <td>0.00058</td>\n",
       "      <td>2018-07-15 19:04:42</td>\n",
       "    </tr>\n",
       "    <tr>\n",
       "      <th>150618</th>\n",
       "      <td>6352008464267281303</td>\n",
       "      <td>530308</td>\n",
       "      <td>88557</td>\n",
       "      <td>0.00038</td>\n",
       "      <td>2018-07-15 19:03:53</td>\n",
       "    </tr>\n",
       "  </tbody>\n",
       "</table>\n",
       "<p>48156 rows × 5 columns</p>\n",
       "</div>"
      ],
      "text/plain": [
       "                 auction_id  message_id  user_id    spend            imp_date\n",
       "1       1019125075080749328      530308    75065  0.00021 2018-07-09 07:09:24\n",
       "3       1031386905892227659      651411    32262  0.00029 2018-07-09 07:30:18\n",
       "8       1092470705399773146      530308    10984  0.00117 2018-07-09 06:59:40\n",
       "10       112494249160477052      651411    75346  0.00034 2018-07-09 07:17:42\n",
       "12      1167554906916683431      530308    59343  0.00008 2018-07-09 07:03:27\n",
       "...                     ...         ...      ...      ...                 ...\n",
       "150603    87552326290426029      530308    49776  0.00013 2018-07-15 19:03:52\n",
       "150609  1156932924028013178      530308    20363  0.00029 2018-07-15 19:04:39\n",
       "150612  3084387555436716438      530308    43797  0.00079 2018-07-15 19:04:51\n",
       "150615  5818269225803916040      530308    85899  0.00058 2018-07-15 19:04:42\n",
       "150618  6352008464267281303      530308    88557  0.00038 2018-07-15 19:03:53\n",
       "\n",
       "[48156 rows x 5 columns]"
      ]
     },
     "execution_count": 98,
     "metadata": {},
     "output_type": "execute_result"
    }
   ],
   "source": [
    "# Separate the impressions data into the two message types\n",
    "type1_ids = [651411, 530308]\n",
    "type2_ids = [335881, 336028]\n",
    "\n",
    "impressions_type1 = df_imp[df_imp['message_id'].isin(type1_ids)]\n",
    "impressions_type2 = df_imp[df_imp['message_id'].isin(type2_ids)]\n",
    "impressions_type1"
   ]
  },
  {
   "cell_type": "code",
   "execution_count": 99,
   "id": "b30b67ea",
   "metadata": {},
   "outputs": [
    {
     "data": {
      "text/html": [
       "<div>\n",
       "<style scoped>\n",
       "    .dataframe tbody tr th:only-of-type {\n",
       "        vertical-align: middle;\n",
       "    }\n",
       "\n",
       "    .dataframe tbody tr th {\n",
       "        vertical-align: top;\n",
       "    }\n",
       "\n",
       "    .dataframe thead th {\n",
       "        text-align: right;\n",
       "    }\n",
       "</style>\n",
       "<table border=\"1\" class=\"dataframe\">\n",
       "  <thead>\n",
       "    <tr style=\"text-align: right;\">\n",
       "      <th></th>\n",
       "      <th>auction_id</th>\n",
       "      <th>message_id</th>\n",
       "      <th>user_id</th>\n",
       "      <th>spend</th>\n",
       "      <th>imp_date</th>\n",
       "    </tr>\n",
       "  </thead>\n",
       "  <tbody>\n",
       "    <tr>\n",
       "      <th>0</th>\n",
       "      <td>1011527229225982812</td>\n",
       "      <td>335881</td>\n",
       "      <td>81763</td>\n",
       "      <td>0.00048</td>\n",
       "      <td>2018-07-09 07:14:28</td>\n",
       "    </tr>\n",
       "    <tr>\n",
       "      <th>2</th>\n",
       "      <td>1026658047695643709</td>\n",
       "      <td>336028</td>\n",
       "      <td>36559</td>\n",
       "      <td>0.00052</td>\n",
       "      <td>2018-07-09 07:10:52</td>\n",
       "    </tr>\n",
       "    <tr>\n",
       "      <th>4</th>\n",
       "      <td>1037113241780132055</td>\n",
       "      <td>335881</td>\n",
       "      <td>50281</td>\n",
       "      <td>0.00068</td>\n",
       "      <td>2018-07-09 06:58:23</td>\n",
       "    </tr>\n",
       "    <tr>\n",
       "      <th>5</th>\n",
       "      <td>1048406658595739535</td>\n",
       "      <td>335881</td>\n",
       "      <td>40227</td>\n",
       "      <td>0.00026</td>\n",
       "      <td>2018-07-09 07:36:08</td>\n",
       "    </tr>\n",
       "    <tr>\n",
       "      <th>6</th>\n",
       "      <td>1067788214122710940</td>\n",
       "      <td>335881</td>\n",
       "      <td>72360</td>\n",
       "      <td>0.00058</td>\n",
       "      <td>2018-07-09 06:51:21</td>\n",
       "    </tr>\n",
       "    <tr>\n",
       "      <th>...</th>\n",
       "      <td>...</td>\n",
       "      <td>...</td>\n",
       "      <td>...</td>\n",
       "      <td>...</td>\n",
       "      <td>...</td>\n",
       "    </tr>\n",
       "    <tr>\n",
       "      <th>150624</th>\n",
       "      <td>8099454765208265847</td>\n",
       "      <td>336028</td>\n",
       "      <td>48750</td>\n",
       "      <td>0.00061</td>\n",
       "      <td>2018-07-15 19:04:45</td>\n",
       "    </tr>\n",
       "    <tr>\n",
       "      <th>150625</th>\n",
       "      <td>8460652359784980519</td>\n",
       "      <td>336028</td>\n",
       "      <td>52619</td>\n",
       "      <td>0.00029</td>\n",
       "      <td>2018-07-15 19:04:43</td>\n",
       "    </tr>\n",
       "    <tr>\n",
       "      <th>150626</th>\n",
       "      <td>8588427627177821422</td>\n",
       "      <td>336028</td>\n",
       "      <td>79679</td>\n",
       "      <td>0.00056</td>\n",
       "      <td>2018-07-15 19:05:12</td>\n",
       "    </tr>\n",
       "    <tr>\n",
       "      <th>150627</th>\n",
       "      <td>8591880332338052557</td>\n",
       "      <td>336028</td>\n",
       "      <td>78716</td>\n",
       "      <td>0.00010</td>\n",
       "      <td>2018-07-15 19:03:25</td>\n",
       "    </tr>\n",
       "    <tr>\n",
       "      <th>150628</th>\n",
       "      <td>8918605915262368898</td>\n",
       "      <td>336028</td>\n",
       "      <td>64752</td>\n",
       "      <td>0.00022</td>\n",
       "      <td>2018-07-15 19:04:31</td>\n",
       "    </tr>\n",
       "  </tbody>\n",
       "</table>\n",
       "<p>102473 rows × 5 columns</p>\n",
       "</div>"
      ],
      "text/plain": [
       "                 auction_id  message_id  user_id    spend            imp_date\n",
       "0       1011527229225982812      335881    81763  0.00048 2018-07-09 07:14:28\n",
       "2       1026658047695643709      336028    36559  0.00052 2018-07-09 07:10:52\n",
       "4       1037113241780132055      335881    50281  0.00068 2018-07-09 06:58:23\n",
       "5       1048406658595739535      335881    40227  0.00026 2018-07-09 07:36:08\n",
       "6       1067788214122710940      335881    72360  0.00058 2018-07-09 06:51:21\n",
       "...                     ...         ...      ...      ...                 ...\n",
       "150624  8099454765208265847      336028    48750  0.00061 2018-07-15 19:04:45\n",
       "150625  8460652359784980519      336028    52619  0.00029 2018-07-15 19:04:43\n",
       "150626  8588427627177821422      336028    79679  0.00056 2018-07-15 19:05:12\n",
       "150627  8591880332338052557      336028    78716  0.00010 2018-07-15 19:03:25\n",
       "150628  8918605915262368898      336028    64752  0.00022 2018-07-15 19:04:31\n",
       "\n",
       "[102473 rows x 5 columns]"
      ]
     },
     "execution_count": 99,
     "metadata": {},
     "output_type": "execute_result"
    }
   ],
   "source": [
    "impressions_type2"
   ]
  },
  {
   "cell_type": "code",
   "execution_count": 101,
   "id": "d218a7e5",
   "metadata": {},
   "outputs": [],
   "source": [
    "# Merge impressions with conversions for each type\n",
    "merged_type1 = pd.merge(impressions_type1, df_conv, on='user_id', suffixes=('_impression', '_conversion'))\n",
    "merged_type1 = merged_type1[merged_type1['conv_date'] > merged_type1['imp_date']]\n",
    "\n",
    "merged_type2 = pd.merge(impressions_type2, df_conv, on='user_id', suffixes=('_impression', '_conversion'))\n",
    "merged_type2 = merged_type2[merged_type2['conv_date'] > merged_type2['imp_date']]\n"
   ]
  },
  {
   "cell_type": "code",
   "execution_count": 102,
   "id": "22d47822",
   "metadata": {},
   "outputs": [],
   "source": [
    "# Calculate KPIs for Type 1\n",
    "total_cost_type1 = impressions_type1['spend'].sum()\n",
    "total_impressions_type1 = impressions_type1.shape[0]\n",
    "unique_users_type1 = impressions_type1['user_id'].nunique()\n",
    "repetition_type1 = total_impressions_type1 / unique_users_type1\n",
    "conversions_assigned_type1 = merged_type1.groupby('conversion_name')['user_id'].count()\n",
    "cpa_type1 = total_cost_type1 / conversions_assigned_type1\n",
    "cpm_type1 = (total_cost_type1 / total_impressions_type1) * 1000\n"
   ]
  },
  {
   "cell_type": "code",
   "execution_count": 103,
   "id": "6df69f83",
   "metadata": {},
   "outputs": [],
   "source": [
    "# Calculate KPIs for Type 2\n",
    "total_cost_type2 = impressions_type2['spend'].sum()\n",
    "total_impressions_type2 = impressions_type2.shape[0]\n",
    "unique_users_type2 = impressions_type2['user_id'].nunique()\n",
    "repetition_type2 = total_impressions_type2 / unique_users_type2\n",
    "conversions_assigned_type2 = merged_type2.groupby('conversion_name')['user_id'].count()\n",
    "cpa_type2 = total_cost_type2 / conversions_assigned_type2\n",
    "cpm_type2 = (total_cost_type2 / total_impressions_type2) * 1000\n"
   ]
  },
  {
   "cell_type": "code",
   "execution_count": 107,
   "id": "e98ab616",
   "metadata": {},
   "outputs": [
    {
     "data": {
      "text/plain": [
       "3159"
      ]
     },
     "execution_count": 107,
     "metadata": {},
     "output_type": "execute_result"
    }
   ],
   "source": [
    "conversions_assigned_type1.sum()"
   ]
  },
  {
   "cell_type": "code",
   "execution_count": 108,
   "id": "b522bd6d",
   "metadata": {},
   "outputs": [
    {
     "data": {
      "text/plain": [
       "6423"
      ]
     },
     "execution_count": 108,
     "metadata": {},
     "output_type": "execute_result"
    }
   ],
   "source": [
    "conversions_assigned_type2.sum()"
   ]
  },
  {
   "cell_type": "code",
   "execution_count": 109,
   "id": "56e79d18",
   "metadata": {},
   "outputs": [
    {
     "data": {
      "text/plain": [
       "56.1460099999999"
      ]
     },
     "execution_count": 109,
     "metadata": {},
     "output_type": "execute_result"
    }
   ],
   "source": [
    "total_cost_type2"
   ]
  },
  {
   "cell_type": "code",
   "execution_count": 110,
   "id": "3d02d8ab",
   "metadata": {},
   "outputs": [
    {
     "data": {
      "text/plain": [
       "25.916619999999952"
      ]
     },
     "execution_count": 110,
     "metadata": {},
     "output_type": "execute_result"
    }
   ],
   "source": [
    "total_cost_type1"
   ]
  },
  {
   "cell_type": "code",
   "execution_count": 112,
   "id": "fd82b4b0",
   "metadata": {},
   "outputs": [
    {
     "data": {
      "text/plain": [
       "0.008204058246280453"
      ]
     },
     "execution_count": 112,
     "metadata": {},
     "output_type": "execute_result"
    }
   ],
   "source": [
    "tcpa_type1 = total_cost_type1/conversions_assigned_type1.sum()\n",
    "tcpa_type1"
   ]
  },
  {
   "cell_type": "code",
   "execution_count": 113,
   "id": "af2e57b3",
   "metadata": {},
   "outputs": [
    {
     "data": {
      "text/plain": [
       "0.008741399657480912"
      ]
     },
     "execution_count": 113,
     "metadata": {},
     "output_type": "execute_result"
    }
   ],
   "source": [
    "tcpa_type2 = total_cost_type2/conversions_assigned_type2.sum()\n",
    "tcpa_type2"
   ]
  },
  {
   "cell_type": "code",
   "execution_count": 115,
   "id": "4b848e92",
   "metadata": {
    "scrolled": true
   },
   "outputs": [
    {
     "data": {
      "text/plain": [
       "({'Total Cost': 25.916619999999952,\n",
       "  'CPM': 0.5381804967189956,\n",
       "  'Total Impressions': 48156,\n",
       "  'Unique Users Impressed': 36147,\n",
       "  'Repetition': 1.332226740808366,\n",
       "  'Conversions Assigned': conversion_name\n",
       "  vente      995\n",
       "  visite    2164\n",
       "  Name: user_id, dtype: int64,\n",
       "  'CPA': conversion_name\n",
       "  vente     0.026047\n",
       "  visite    0.011976\n",
       "  Name: user_id, dtype: float64,\n",
       "  'tCPA': 0.008204058246280453},\n",
       " {'Total Cost': 56.1460099999999,\n",
       "  'CPM': 0.5479102788051476,\n",
       "  'Total Impressions': 102473,\n",
       "  'Unique Users Impressed': 58351,\n",
       "  'Repetition': 1.7561481379924937,\n",
       "  'Conversions Assigned': conversion_name\n",
       "  vente     2005\n",
       "  visite    4418\n",
       "  Name: user_id, dtype: int64,\n",
       "  'CPA': conversion_name\n",
       "  vente     0.028003\n",
       "  visite    0.012708\n",
       "  Name: user_id, dtype: float64,\n",
       "  'tCPA': 0.008741399657480912})"
      ]
     },
     "execution_count": 115,
     "metadata": {},
     "output_type": "execute_result"
    }
   ],
   "source": [
    "# Prepare the performance stats tables\n",
    "performance_stats_type1 = {\n",
    "    'Total Cost': total_cost_type1,\n",
    "    'CPM': cpm_type1,\n",
    "    'Total Impressions': total_impressions_type1,\n",
    "    'Unique Users Impressed': unique_users_type1,\n",
    "    'Repetition': repetition_type1,\n",
    "    'Conversions Assigned': conversions_assigned_type1,\n",
    "    'CPA': cpa_type1,\n",
    "    'tCPA': tcpa_type1\n",
    "}\n",
    "\n",
    "performance_stats_type2 = {\n",
    "    'Total Cost': total_cost_type2,\n",
    "    'CPM': cpm_type2,\n",
    "    'Total Impressions': total_impressions_type2,\n",
    "    'Unique Users Impressed': unique_users_type2,\n",
    "    'Repetition': repetition_type2,\n",
    "    'Conversions Assigned': conversions_assigned_type2,\n",
    "    'CPA': cpa_type2,\n",
    "    'tCPA': tcpa_type2\n",
    "}\n",
    "\n",
    "performance_stats_type1, performance_stats_type2\n"
   ]
  },
  {
   "cell_type": "markdown",
   "id": "af620783",
   "metadata": {},
   "source": [
    "#### i."
   ]
  },
  {
   "cell_type": "code",
   "execution_count": 128,
   "id": "6ea9f1ff",
   "metadata": {},
   "outputs": [
    {
     "data": {
      "text/html": [
       "<div>\n",
       "<style scoped>\n",
       "    .dataframe tbody tr th:only-of-type {\n",
       "        vertical-align: middle;\n",
       "    }\n",
       "\n",
       "    .dataframe tbody tr th {\n",
       "        vertical-align: top;\n",
       "    }\n",
       "\n",
       "    .dataframe thead th {\n",
       "        text-align: right;\n",
       "    }\n",
       "</style>\n",
       "<table border=\"1\" class=\"dataframe\">\n",
       "  <thead>\n",
       "    <tr style=\"text-align: right;\">\n",
       "      <th></th>\n",
       "      <th>Total Cost</th>\n",
       "      <th>CPM</th>\n",
       "      <th>Total Impressions</th>\n",
       "      <th>Unique Users Impressed</th>\n",
       "      <th>Repetition</th>\n",
       "      <th>Conversions Assigned (Visits)</th>\n",
       "      <th>Conversions Assigned (Sales)</th>\n",
       "      <th>CPA (Visits)</th>\n",
       "      <th>CPA (Sales)</th>\n",
       "      <th>tCPA</th>\n",
       "    </tr>\n",
       "  </thead>\n",
       "  <tbody>\n",
       "    <tr>\n",
       "      <th>Type 1: Promotional Offer</th>\n",
       "      <td>25.91662</td>\n",
       "      <td>0.53818</td>\n",
       "      <td>48156</td>\n",
       "      <td>36147</td>\n",
       "      <td>1.33223</td>\n",
       "      <td>2164</td>\n",
       "      <td>995</td>\n",
       "      <td>0.01198</td>\n",
       "      <td>0.02605</td>\n",
       "      <td>0.00820</td>\n",
       "    </tr>\n",
       "    <tr>\n",
       "      <th>Type 2: Generic Offer</th>\n",
       "      <td>56.14601</td>\n",
       "      <td>0.54791</td>\n",
       "      <td>102473</td>\n",
       "      <td>58351</td>\n",
       "      <td>1.75615</td>\n",
       "      <td>4418</td>\n",
       "      <td>2005</td>\n",
       "      <td>0.01271</td>\n",
       "      <td>0.02800</td>\n",
       "      <td>0.00874</td>\n",
       "    </tr>\n",
       "  </tbody>\n",
       "</table>\n",
       "</div>"
      ],
      "text/plain": [
       "                           Total Cost      CPM  Total Impressions  \\\n",
       "Type 1: Promotional Offer    25.91662  0.53818              48156   \n",
       "Type 2: Generic Offer        56.14601  0.54791             102473   \n",
       "\n",
       "                           Unique Users Impressed  Repetition  \\\n",
       "Type 1: Promotional Offer                   36147     1.33223   \n",
       "Type 2: Generic Offer                       58351     1.75615   \n",
       "\n",
       "                           Conversions Assigned (Visits)  \\\n",
       "Type 1: Promotional Offer                           2164   \n",
       "Type 2: Generic Offer                               4418   \n",
       "\n",
       "                           Conversions Assigned (Sales)  CPA (Visits)  \\\n",
       "Type 1: Promotional Offer                           995       0.01198   \n",
       "Type 2: Generic Offer                              2005       0.01271   \n",
       "\n",
       "                           CPA (Sales)     tCPA  \n",
       "Type 1: Promotional Offer      0.02605  0.00820  \n",
       "Type 2: Generic Offer          0.02800  0.00874  "
      ]
     },
     "execution_count": 128,
     "metadata": {},
     "output_type": "execute_result"
    }
   ],
   "source": [
    "data_type1 = {\n",
    "    'Total Cost': 25.91662,\n",
    "    'CPM': 0.53818,\n",
    "    'Total Impressions': 48156,\n",
    "    'Unique Users Impressed': 36147,\n",
    "    'Repetition': 1.33223,\n",
    "    'Conversions Assigned (Visits)': 2164,\n",
    "    'Conversions Assigned (Sales)': 995,\n",
    "    'CPA (Visits)': 0.01198,\n",
    "    'CPA (Sales)': 0.02605,\n",
    "    'tCPA': 0.00820\n",
    "}\n",
    "\n",
    "data_type2 = {\n",
    "    'Total Cost': 56.14601,\n",
    "    'CPM': 0.54791,\n",
    "    'Total Impressions': 102473,\n",
    "    'Unique Users Impressed': 58351,\n",
    "    'Repetition': 1.75615,\n",
    "    'Conversions Assigned (Visits)': 4418,\n",
    "    'Conversions Assigned (Sales)': 2005,\n",
    "    'CPA (Visits)': 0.01271,\n",
    "    'CPA (Sales)': 0.02800,\n",
    "    'tCPA': 0.00874\n",
    "}\n",
    "\n",
    "# Create a DataFrame for easier display\n",
    "performance_comparison_df = pd.DataFrame([data_type1, data_type2],\n",
    "                                         index=['Type 1: Promotional Offer', 'Type 2: Generic Offer'])\n",
    "\n",
    "performance_comparison_df"
   ]
  },
  {
   "cell_type": "markdown",
   "id": "c3f86dfb",
   "metadata": {},
   "source": [
    "#### ii. Some the bias here could be: Audience overlap - since both the types of messages are exposed to both users, it is difficult to seperate out the impact of the messages on user ; Temporal bias - time of broadcast rather than message itself ; External Factor biases, engagement bias due to the presentation rather than message itself.\n",
    "#### Audience overlap can be avoided by segmenting the audience into categories based on demographics and behaviours. \n",
    "#### Temporal bias can be avoided by sending both types of messages at the same time to study the effect of ads based on time.\n",
    "#### External Factor - take into consideration, canibalisation due to a comptetitor ad being broadcasted at the same time, holidays, economic conditions (maybe due to a pandemic)"
   ]
  },
  {
   "cell_type": "code",
   "execution_count": null,
   "id": "fe0f1564",
   "metadata": {},
   "outputs": [],
   "source": []
  }
 ],
 "metadata": {
  "kernelspec": {
   "display_name": "Python 3 (ipykernel)",
   "language": "python",
   "name": "python3"
  },
  "language_info": {
   "codemirror_mode": {
    "name": "ipython",
    "version": 3
   },
   "file_extension": ".py",
   "mimetype": "text/x-python",
   "name": "python",
   "nbconvert_exporter": "python",
   "pygments_lexer": "ipython3",
   "version": "3.8.18"
  }
 },
 "nbformat": 4,
 "nbformat_minor": 5
}
